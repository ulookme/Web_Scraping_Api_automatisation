{
 "cells": [
  {
   "cell_type": "code",
   "execution_count": 1,
   "metadata": {},
   "outputs": [],
   "source": [
    "#challenge scrapping de 3000 films ainsi que les critiques"
   ]
  },
  {
   "cell_type": "code",
   "execution_count": 2,
   "metadata": {},
   "outputs": [],
   "source": [
    "from bs4 import BeautifulSoup\n",
    "import requests\n",
    "import pandas as pd"
   ]
  },
  {
   "cell_type": "code",
   "execution_count": 3,
   "metadata": {},
   "outputs": [
    {
     "name": "stdout",
     "output_type": "stream",
     "text": [
      "\n",
      "\n",
      "\n",
      "<!DOCTYPE html>\n",
      "<html\n",
      "    xmlns:og=\"http://ogp.me/ns#\"\n",
      "    xmlns:fb=\"http://www.facebook.com/2008/fbml\">\n",
      "    <head>\n",
      "         \n",
      "        <meta charset=\"utf-8\">\n",
      "        <meta http-equiv=\"X-UA-Compatible\" content=\"IE=edge\">\n",
      "\n",
      "    <meta name=\"apple-itunes-app\" content=\"app-id=342792525, app-argument=imdb:///?src=mdot\">\n",
      "\n",
      "\n",
      "\n",
      "        <script type=\"text/javascript\">var IMDbTimer={starttime: new Date().getTime(),pt:'java'};</script>\n",
      "\n",
      "<script>\n",
      "    if (typeof uet == 'function') {\n",
      "      uet(\"bb\", \"LoadTitle\"\n"
     ]
    }
   ],
   "source": [
    "from requests import get \n",
    "url='https://www.imdb.com/search/title/?release_date=2017&sort=num_votes,desc&page=1'\n",
    "response = get(url)\n",
    "print(response.text[:500])"
   ]
  },
  {
   "cell_type": "code",
   "execution_count": 5,
   "metadata": {},
   "outputs": [
    {
     "data": {
      "text/plain": [
       "bs4.BeautifulSoup"
      ]
     },
     "execution_count": 5,
     "metadata": {},
     "output_type": "execute_result"
    }
   ],
   "source": [
    "html_soup=BeautifulSoup(response.text,'html.parser')\n",
    "type(html_soup)"
   ]
  },
  {
   "cell_type": "code",
   "execution_count": 6,
   "metadata": {},
   "outputs": [
    {
     "name": "stdout",
     "output_type": "stream",
     "text": [
      "<class 'bs4.element.ResultSet'>\n",
      "50\n"
     ]
    }
   ],
   "source": [
    "movie_containers = html_soup.find_all('div',class_=\"lister-item mode-advanced\")\n",
    "print(type(movie_containers))\n",
    "print(len(movie_containers))"
   ]
  },
  {
   "cell_type": "code",
   "execution_count": 8,
   "metadata": {},
   "outputs": [
    {
     "data": {
      "text/plain": [
       "<div class=\"lister-item mode-advanced\">\n",
       "<div class=\"lister-top-right\">\n",
       "<div class=\"ribbonize\" data-caller=\"filmosearch\" data-tconst=\"tt3315342\"></div>\n",
       "</div>\n",
       "<div class=\"lister-item-image float-left\">\n",
       "<a href=\"/title/tt3315342/\"> <img alt=\"Logan\" class=\"loadlate\" data-tconst=\"tt3315342\" height=\"98\" loadlate=\"https://m.media-amazon.com/images/M/MV5BYzc5MTU4N2EtYTkyMi00NjdhLTg3NWEtMTY4OTEyMzJhZTAzXkEyXkFqcGdeQXVyNjc1NTYyMjg@._V1_UX67_CR0,0,67,98_AL_.jpg\" src=\"https://m.media-amazon.com/images/G/01/imdb/images/nopicture/large/film-184890147._CB466725069_.png\" width=\"67\"/>\n",
       "</a> </div>\n",
       "<div class=\"lister-item-content\">\n",
       "<h3 class=\"lister-item-header\">\n",
       "<span class=\"lister-item-index unbold text-primary\">1.</span>\n",
       "<a href=\"/title/tt3315342/\">Logan</a>\n",
       "<span class=\"lister-item-year text-muted unbold\">(2017)</span>\n",
       "</h3>\n",
       "<p class=\"text-muted\">\n",
       "<span class=\"certificate\">12</span>\n",
       "<span class=\"ghost\">|</span>\n",
       "<span class=\"runtime\">137 min</span>\n",
       "<span class=\"ghost\">|</span>\n",
       "<span class=\"genre\">\n",
       "Action, Drama, Sci-Fi            </span>\n",
       "</p>\n",
       "<div class=\"ratings-bar\">\n",
       "<div class=\"inline-block ratings-imdb-rating\" data-value=\"8.1\" name=\"ir\">\n",
       "<span class=\"global-sprite rating-star imdb-rating\"></span>\n",
       "<strong>8.1</strong>\n",
       "</div>\n",
       "<div class=\"inline-block ratings-user-rating\">\n",
       "<span class=\"userRatingValue\" data-tconst=\"tt3315342\" id=\"urv_tt3315342\">\n",
       "<span class=\"global-sprite rating-star no-rating\"></span>\n",
       "<span class=\"rate\" data-no-rating=\"Rate this\" data-value=\"0\" name=\"ur\">Rate this</span>\n",
       "</span>\n",
       "<div class=\"starBarWidget\" id=\"sb_tt3315342\">\n",
       "<div class=\"rating rating-list\" data-auth=\"\" data-ga-identifier=\"\" data-starbar-class=\"rating-list\" data-user=\"\" id=\"tt3315342|imdb|8.1|8.1|adv_li_tt||advsearch|title\" itemprop=\"aggregateRating\" itemscope=\"\" itemtype=\"http://schema.org/AggregateRating\" title=\"Users rated this 8.1/10 (611,503 votes) - click stars to rate\">\n",
       "<meta content=\"8.1\" itemprop=\"ratingValue\"/>\n",
       "<meta content=\"10\" itemprop=\"bestRating\"/>\n",
       "<meta content=\"611503\" itemprop=\"ratingCount\"/>\n",
       "<span class=\"rating-bg\"> </span>\n",
       "<span class=\"rating-imdb\" style=\"width: 113.4px\"> </span>\n",
       "<span class=\"rating-stars\">\n",
       "<a href=\"/register/login?why=vote\" rel=\"nofollow\" title=\"Register or login to rate this title\"><span>1</span></a>\n",
       "<a href=\"/register/login?why=vote\" rel=\"nofollow\" title=\"Register or login to rate this title\"><span>2</span></a>\n",
       "<a href=\"/register/login?why=vote\" rel=\"nofollow\" title=\"Register or login to rate this title\"><span>3</span></a>\n",
       "<a href=\"/register/login?why=vote\" rel=\"nofollow\" title=\"Register or login to rate this title\"><span>4</span></a>\n",
       "<a href=\"/register/login?why=vote\" rel=\"nofollow\" title=\"Register or login to rate this title\"><span>5</span></a>\n",
       "<a href=\"/register/login?why=vote\" rel=\"nofollow\" title=\"Register or login to rate this title\"><span>6</span></a>\n",
       "<a href=\"/register/login?why=vote\" rel=\"nofollow\" title=\"Register or login to rate this title\"><span>7</span></a>\n",
       "<a href=\"/register/login?why=vote\" rel=\"nofollow\" title=\"Register or login to rate this title\"><span>8</span></a>\n",
       "<a href=\"/register/login?why=vote\" rel=\"nofollow\" title=\"Register or login to rate this title\"><span>9</span></a>\n",
       "<a href=\"/register/login?why=vote\" rel=\"nofollow\" title=\"Register or login to rate this title\"><span>10</span></a>\n",
       "</span>\n",
       "<span class=\"rating-rating\"><span class=\"value\">8.1</span><span class=\"grey\">/</span><span class=\"grey\">10</span></span>\n",
       "<span class=\"rating-cancel\"><a href=\"/title/tt3315342/vote?v=X;k=\" rel=\"nofollow\" title=\"Delete\"><span>X</span></a></span>\n",
       " </div>\n",
       "</div>\n",
       "</div>\n",
       "<div class=\"inline-block ratings-metascore\">\n",
       "<span class=\"metascore favorable\">77        </span>\n",
       "        Metascore\n",
       "            </div>\n",
       "</div>\n",
       "<p class=\"text-muted\">\n",
       "    In a future where mutants are nearly extinct, an elderly and weary Logan leads a quiet life. But when Laura, a mutant child pursued by scientists, comes to him for help, he must get her to safety.</p>\n",
       "<p class=\"\">\n",
       "    Director:\n",
       "<a href=\"/name/nm0003506/\">James Mangold</a>\n",
       "<span class=\"ghost\">|</span> \n",
       "    Stars:\n",
       "<a href=\"/name/nm0413168/\">Hugh Jackman</a>, \n",
       "<a href=\"/name/nm0001772/\">Patrick Stewart</a>, \n",
       "<a href=\"/name/nm6748436/\">Dafne Keen</a>, \n",
       "<a href=\"/name/nm2933542/\">Boyd Holbrook</a>\n",
       "</p>\n",
       "<p class=\"sort-num_votes-visible\">\n",
       "<span class=\"text-muted\">Votes:</span>\n",
       "<span data-value=\"611503\" name=\"nv\">611,503</span>\n",
       "<span class=\"ghost\">|</span> <span class=\"text-muted\">Gross:</span>\n",
       "<span data-value=\"226,277,068\" name=\"nv\">$226.28M</span>\n",
       "</p>\n",
       "</div>\n",
       "</div>"
      ]
     },
     "execution_count": 8,
     "metadata": {},
     "output_type": "execute_result"
    }
   ],
   "source": [
    "# extraire la data pour un seule film\n",
    "first_movie = movie_containers[0]\n",
    "first_movie"
   ]
  },
  {
   "cell_type": "code",
   "execution_count": 9,
   "metadata": {},
   "outputs": [
    {
     "data": {
      "text/plain": [
       "'Logan'"
      ]
     },
     "execution_count": 9,
     "metadata": {},
     "output_type": "execute_result"
    }
   ],
   "source": [
    "#le titre du films\n",
    "firts_name=first_movie.h3.a.text"
   ]
  },
  {
   "cell_type": "code",
   "execution_count": 16,
   "metadata": {},
   "outputs": [
    {
     "name": "stdout",
     "output_type": "stream",
     "text": [
      "(2017)\n"
     ]
    }
   ],
   "source": [
    "#l'année de sorti\n",
    "years_movie= first_movie.find_all(class_=\"lister-item-year text-muted unbold\")[0]\n",
    "print(years_movie.text)"
   ]
  },
  {
   "cell_type": "code",
   "execution_count": 18,
   "metadata": {},
   "outputs": [
    {
     "data": {
      "text/plain": [
       "<strong>8.1</strong>"
      ]
     },
     "execution_count": 18,
     "metadata": {},
     "output_type": "execute_result"
    }
   ],
   "source": [
    "#Note IMDB \n",
    "first_movie.strong"
   ]
  },
  {
   "cell_type": "code",
   "execution_count": 19,
   "metadata": {},
   "outputs": [
    {
     "data": {
      "text/plain": [
       "8.1"
      ]
     },
     "execution_count": 19,
     "metadata": {},
     "output_type": "execute_result"
    }
   ],
   "source": [
    "first_imdb = float(first_movie.strong.text)# convertir en float ( nombre a virgule)\n",
    "first_imdb"
   ]
  },
  {
   "cell_type": "code",
   "execution_count": 22,
   "metadata": {},
   "outputs": [
    {
     "data": {
      "text/plain": [
       "77"
      ]
     },
     "execution_count": 22,
     "metadata": {},
     "output_type": "execute_result"
    }
   ],
   "source": [
    "#note meta critique \n",
    "first_metascore=first_movie.find('span', class_='metascore favorable')\n",
    "first_metascore = int(first_metascore.text)\n",
    "first_metascore"
   ]
  },
  {
   "cell_type": "code",
   "execution_count": 24,
   "metadata": {},
   "outputs": [
    {
     "data": {
      "text/plain": [
       "<span data-value=\"611503\" name=\"nv\">611,503</span>"
      ]
     },
     "execution_count": 24,
     "metadata": {},
     "output_type": "execute_result"
    }
   ],
   "source": [
    "# nombre de vote\n",
    "first_vote=first_movie.find('span',attrs={'name':'nv'})\n",
    "first_vote"
   ]
  },
  {
   "cell_type": "code",
   "execution_count": 25,
   "metadata": {},
   "outputs": [
    {
     "data": {
      "text/plain": [
       "'611503'"
      ]
     },
     "execution_count": 25,
     "metadata": {},
     "output_type": "execute_result"
    }
   ],
   "source": [
    "first_vote['data-value']"
   ]
  },
  {
   "cell_type": "code",
   "execution_count": 32,
   "metadata": {},
   "outputs": [],
   "source": [
    "#first_vote = int(first_vote['data-value'])\n",
    "#first_vote"
   ]
  },
  {
   "cell_type": "code",
   "execution_count": 33,
   "metadata": {},
   "outputs": [
    {
     "data": {
      "text/plain": [
       "NoneType"
      ]
     },
     "execution_count": 33,
     "metadata": {},
     "output_type": "execute_result"
    }
   ],
   "source": [
    "#Script pour scraper une seule page\n",
    "test_movie_metascore = movie_containers[8].find('div', class_='rating-metascore')\n",
    "type(test_movie_metascore)"
   ]
  },
  {
   "cell_type": "code",
   "execution_count": 42,
   "metadata": {},
   "outputs": [],
   "source": [
    "###on créé des liste vide pour touts les information a recupérré\n",
    "names=[]\n",
    "years=[]\n",
    "imdb_ratings=[]\n",
    "metascore =[]\n",
    "votes=[]\n",
    "#on reprend notre data movie_containers pour y extraire l'information\n",
    "for container in movie_containers:\n",
    "    #si le film a une note metacritic, on l'extrait\n",
    "    if container.find('div',class_='ratings-metascore') is not None:\n",
    "        #le titre du films\n",
    "        name = container.h3.a.text\n",
    "        names.append(name)\n",
    "        \n",
    "        #l'année de sortie\n",
    "        year=container.h3.find('span',class_=\"lister-item-year\").text\n",
    "        years.append(year)\n",
    "        \n",
    "        #la note IMDB\n",
    "        imdb = float(container.strong.text)\n",
    "        imdb_ratings.append(imdb)\n",
    "        \n",
    "        #metascore\n",
    "        m_score = container.find('span',class_='metascore').text\n",
    "        metascore.append(int(m_score))\n",
    "        \n",
    "        #le nombre de vote\n",
    "        vote = container.find('span',attrs = {'name':'nv'})['data-value']\n",
    "        votes.append(int(vote))\n",
    "        \n",
    "        \n",
    "        \n",
    "        \n",
    "        \n",
    "        "
   ]
  },
  {
   "cell_type": "code",
   "execution_count": 43,
   "metadata": {},
   "outputs": [
    {
     "name": "stdout",
     "output_type": "stream",
     "text": [
      "['Logan', 'Thor: Ragnarok', 'Les gardiens de la galaxie Vol. 2', 'Star Wars: Episode VIII - Les derniers Jedi', 'Wonder Woman', 'Dunkerque', 'Spider-Man: Homecoming', 'Get Out', 'Ça', 'Blade Runner 2049', 'Baby Driver', '3 Billboards: Les panneaux de la vengeance', 'Justice League', \"La forme de l'eau\", 'John Wick 2', 'Coco', 'Jumanji: Bienvenue dans la jungle', 'La Belle et la Bête', 'Kong: Skull Island', \"Kingsman: Le cercle d'or\", 'Pirates des Caraïbes: la Vengeance de Salazar', 'Alien: Covenant', 'The Greatest Showman', 'La planète des singes: Suprématie', 'Lady Bird', \"Le crime de l'Orient-Express\", 'Life: Origine inconnue', 'Fast & Furious 8', 'Ghost in the Shell', 'Wind River', 'Call Me by Your Name', \"Le roi Arthur: La légende d'Excalibur\", 'Mother', 'Hitman & Bodyguard', 'Moi, Tonya', 'Atomic Blonde', 'La momie', 'Bright', 'Les heures sombres', 'Valérian et la Cité des Mille Planètes', 'Baywatch: Alerte à Malibu', 'Barry Seal: American Traffic']\n"
     ]
    }
   ],
   "source": [
    "print(len(names)"
   ]
  },
  {
   "cell_type": "code",
   "execution_count": 45,
   "metadata": {},
   "outputs": [],
   "source": [
    "# on affiche le touts dans un dataframe avec pandas \n",
    "film_df =pd.DataFrame({\n",
    "    'movie': names,\n",
    "    'year': years,\n",
    "    'imdb': imdb_ratings,\n",
    "    'metascore': metascore,\n",
    "    'votes':votes\n",
    "})"
   ]
  },
  {
   "cell_type": "code",
   "execution_count": 48,
   "metadata": {},
   "outputs": [
    {
     "name": "stdout",
     "output_type": "stream",
     "text": [
      "<class 'pandas.core.frame.DataFrame'>\n",
      "RangeIndex: 42 entries, 0 to 41\n",
      "Data columns (total 5 columns):\n",
      " #   Column     Non-Null Count  Dtype  \n",
      "---  ------     --------------  -----  \n",
      " 0   movie      42 non-null     object \n",
      " 1   year       42 non-null     object \n",
      " 2   imdb       42 non-null     float64\n",
      " 3   metascore  42 non-null     int64  \n",
      " 4   votes      42 non-null     int64  \n",
      "dtypes: float64(1), int64(2), object(2)\n",
      "memory usage: 1.8+ KB\n"
     ]
    }
   ],
   "source": [
    "film_df.info()"
   ]
  },
  {
   "cell_type": "code",
   "execution_count": 49,
   "metadata": {},
   "outputs": [
    {
     "data": {
      "text/html": [
       "<div>\n",
       "<style scoped>\n",
       "    .dataframe tbody tr th:only-of-type {\n",
       "        vertical-align: middle;\n",
       "    }\n",
       "\n",
       "    .dataframe tbody tr th {\n",
       "        vertical-align: top;\n",
       "    }\n",
       "\n",
       "    .dataframe thead th {\n",
       "        text-align: right;\n",
       "    }\n",
       "</style>\n",
       "<table border=\"1\" class=\"dataframe\">\n",
       "  <thead>\n",
       "    <tr style=\"text-align: right;\">\n",
       "      <th></th>\n",
       "      <th>movie</th>\n",
       "      <th>year</th>\n",
       "      <th>imdb</th>\n",
       "      <th>metascore</th>\n",
       "      <th>votes</th>\n",
       "    </tr>\n",
       "  </thead>\n",
       "  <tbody>\n",
       "    <tr>\n",
       "      <th>0</th>\n",
       "      <td>Logan</td>\n",
       "      <td>(2017)</td>\n",
       "      <td>8.1</td>\n",
       "      <td>77</td>\n",
       "      <td>611503</td>\n",
       "    </tr>\n",
       "    <tr>\n",
       "      <th>1</th>\n",
       "      <td>Thor: Ragnarok</td>\n",
       "      <td>(2017)</td>\n",
       "      <td>7.9</td>\n",
       "      <td>74</td>\n",
       "      <td>546423</td>\n",
       "    </tr>\n",
       "    <tr>\n",
       "      <th>2</th>\n",
       "      <td>Les gardiens de la galaxie Vol. 2</td>\n",
       "      <td>(2017)</td>\n",
       "      <td>7.6</td>\n",
       "      <td>67</td>\n",
       "      <td>535395</td>\n",
       "    </tr>\n",
       "    <tr>\n",
       "      <th>3</th>\n",
       "      <td>Star Wars: Episode VIII - Les derniers Jedi</td>\n",
       "      <td>(2017)</td>\n",
       "      <td>7.0</td>\n",
       "      <td>85</td>\n",
       "      <td>534235</td>\n",
       "    </tr>\n",
       "  </tbody>\n",
       "</table>\n",
       "</div>"
      ],
      "text/plain": [
       "                                         movie    year  imdb  metascore  \\\n",
       "0                                        Logan  (2017)   8.1         77   \n",
       "1                               Thor: Ragnarok  (2017)   7.9         74   \n",
       "2            Les gardiens de la galaxie Vol. 2  (2017)   7.6         67   \n",
       "3  Star Wars: Episode VIII - Les derniers Jedi  (2017)   7.0         85   \n",
       "\n",
       "    votes  \n",
       "0  611503  \n",
       "1  546423  \n",
       "2  535395  \n",
       "3  534235  "
      ]
     },
     "execution_count": 49,
     "metadata": {},
     "output_type": "execute_result"
    }
   ],
   "source": [
    "film_df.head(4)"
   ]
  },
  {
   "cell_type": "code",
   "execution_count": 85,
   "metadata": {},
   "outputs": [
    {
     "data": {
      "text/plain": [
       "['1', '2', '3', '4']"
      ]
     },
     "execution_count": 85,
     "metadata": {},
     "output_type": "execute_result"
    }
   ],
   "source": [
    "#script scrap  toutes les pages \n",
    "#on etudie le paramétre url\n",
    "pages= [str(i) for i in range(1,5)]\n",
    "pages\n"
   ]
  },
  {
   "cell_type": "code",
   "execution_count": 86,
   "metadata": {},
   "outputs": [
    {
     "data": {
      "text/plain": [
       "['2000',\n",
       " '2001',\n",
       " '2002',\n",
       " '2003',\n",
       " '2004',\n",
       " '2005',\n",
       " '2006',\n",
       " '2007',\n",
       " '2008',\n",
       " '2009',\n",
       " '2010',\n",
       " '2011',\n",
       " '2012',\n",
       " '2013',\n",
       " '2014',\n",
       " '2015',\n",
       " '2016',\n",
       " '2017',\n",
       " '2018']"
      ]
     },
     "execution_count": 86,
     "metadata": {},
     "output_type": "execute_result"
    }
   ],
   "source": [
    "years_url = [str(i) for i in range(2000,2019)]\n",
    "years_url"
   ]
  },
  {
   "cell_type": "code",
   "execution_count": 87,
   "metadata": {},
   "outputs": [
    {
     "name": "stdout",
     "output_type": "stream",
     "text": [
      "Booh\n",
      "Booh\n",
      "Booh\n",
      "Booh\n",
      "Booh\n"
     ]
    }
   ],
   "source": [
    "# controler le taux de requetes envoyées\n",
    "from time import sleep\n",
    "from random import randint\n",
    "\n",
    "for a in range(0,5):\n",
    "    print('Booh')\n",
    "    sleep(randint(1,4))"
   ]
  },
  {
   "cell_type": "code",
   "execution_count": 88,
   "metadata": {},
   "outputs": [
    {
     "name": "stdout",
     "output_type": "stream",
     "text": [
      "Request: 5; Frequency: 0.45344827064294174 requests/s\n"
     ]
    }
   ],
   "source": [
    "from time import time \n",
    "from IPython.display import clear_output\n",
    "start_time = time() # on fixe le temps de debut\n",
    "requests = 0# la variable requests va compter le nombre de requete\n",
    "for _ in range(5):\n",
    "    requests += 1 # on incremente la variable requests d'une unité a chaque passage de la boucle \n",
    "    sleep(randint(1,3))# on fait une pause de une a trois seconde \n",
    "    elapsed_time = time() - start_time # on calcule le temps ecouler depuis le temps de la premiére  requete \n",
    "    print('Request: {}; Frequency: {} requests/s' .format(requests,requests/elapsed_time))\n",
    "    clear_output(wait=True)\n"
   ]
  },
  {
   "cell_type": "code",
   "execution_count": 89,
   "metadata": {},
   "outputs": [],
   "source": [
    "#### SCRIPT FINALE ### relancer el noyer et exécuter directement script final"
   ]
  },
  {
   "cell_type": "code",
   "execution_count": 93,
   "metadata": {},
   "outputs": [
    {
     "name": "stdout",
     "output_type": "stream",
     "text": [
      "Request: 72; Frequency: 0.0799457663011071 requests/s\n"
     ]
    }
   ],
   "source": [
    "#@\n",
    "starts = [str(i) for i in range(1,201,50)]\n",
    " \n",
    "years_url = [str(i) for i in range(2000,2018)]\n",
    " \n",
    "# 1. Redéclarer les listes\n",
    "names = []\n",
    "years = []\n",
    "imdb_ratings =[]\n",
    "metascores = []\n",
    "votes = []\n",
    " \n",
    "# 2. préparer l'affichage des boucles\n",
    "start_time = time()\n",
    "requests = 0\n",
    " \n",
    "# 3. Pour chaque année de l'intervalle 2000-2017\n",
    "for year_url in years_url:\n",
    "    \n",
    "    # 4. boucle sur starts contenant les premiers films des pages de 1 à 4\n",
    "    for start in starts:\n",
    "        \n",
    "        # 5. Faire une requête GET\n",
    "        response = get('http://www.imdb.com/search/title?release_date='+ year_url +'&sort=num_votes,desc&start='+ start)\n",
    "        \n",
    "        # pause la boucle de 8 a 15 secondes \n",
    "        sleep(randint(8,15))\n",
    "        # afficher les informations sur les requetes\n",
    "        requests +=1\n",
    "        elapsed_time = time()- start_time\n",
    "        print('Request: {}; Frequency: {} requests/s' .format(requests,requests/elapsed_time))\n",
    "        clear_output(wait=True)\n",
    "        \n",
    "        #avertire si el code status est different de 200\n",
    "        if response.status_code != 200:\n",
    "            warn('Request: {}; Status code: {}'.format(requests, response.status_code))\n",
    "            \n",
    "         #stopper la boucle si le nombre de requete est superieur a 72\n",
    "        if requests >72:\n",
    "            warn('Nombre de requetes trop importante')\n",
    "            break\n",
    "            \n",
    "         #extraire le htlm avec BeautifuSop\n",
    "        page_html = BeautifulSoup(response.text, 'html.parser')\n",
    "        \n",
    "        # selectionner les 50 films de chaque page.\n",
    "        \n",
    "        mv_containers = page_html.find_all('div',class_=\"lister-item mode-advanced\")\n",
    "        \n",
    "        #boucle pour chaque container\n",
    "        for container in mv_containers:\n",
    "            #si le film a un metascor\n",
    "            if container.find('div',class_='rating-metascore') is not None:\n",
    "                \n",
    "                #scrape le titre\n",
    "                name = container.h3.a.text\n",
    "                names.append(name)\n",
    "                \n",
    "                \n",
    "                #l'année de sortie\n",
    "                year=container.h3.find('span',class_=\"lister-item-year\").text\n",
    "                years.append(year)\n",
    "        \n",
    "                #la note IMDB\n",
    "                imdb = float(container.strong.text)\n",
    "                imdb_ratings.append(imdb)\n",
    "        \n",
    "                #metascore\n",
    "                m_score = container.find('span',class_='metascore').text\n",
    "                metascores.append(int(m_score))\n",
    "        \n",
    "                #le nombre de vote\n",
    "                vote = container.find('span',attrs = {'name':'nv'})['data-value']\n",
    "                votes.append(int(vote))\n",
    "        \n"
   ]
  },
  {
   "cell_type": "markdown",
   "metadata": {},
   "source": []
  },
  {
   "cell_type": "code",
   "execution_count": 95,
   "metadata": {},
   "outputs": [
    {
     "data": {
      "text/html": [
       "<div>\n",
       "<style scoped>\n",
       "    .dataframe tbody tr th:only-of-type {\n",
       "        vertical-align: middle;\n",
       "    }\n",
       "\n",
       "    .dataframe tbody tr th {\n",
       "        vertical-align: top;\n",
       "    }\n",
       "\n",
       "    .dataframe thead th {\n",
       "        text-align: right;\n",
       "    }\n",
       "</style>\n",
       "<table border=\"1\" class=\"dataframe\">\n",
       "  <thead>\n",
       "    <tr style=\"text-align: right;\">\n",
       "      <th></th>\n",
       "      <th>movie</th>\n",
       "      <th>year</th>\n",
       "      <th>imdb</th>\n",
       "      <th>metascore</th>\n",
       "      <th>votes</th>\n",
       "    </tr>\n",
       "  </thead>\n",
       "  <tbody>\n",
       "  </tbody>\n",
       "</table>\n",
       "</div>"
      ],
      "text/plain": [
       "Empty DataFrame\n",
       "Columns: [movie, year, imdb, metascore, votes]\n",
       "Index: []"
      ]
     },
     "execution_count": 95,
     "metadata": {},
     "output_type": "execute_result"
    }
   ],
   "source": [
    "movie_ratings = pd.DataFrame({\n",
    "        'movie': names,\n",
    "        'year': years,\n",
    "        'imdb': imdb_ratings,\n",
    "        'metascore': metascores,\n",
    "        'votes': votes\n",
    "    })\n",
    " \n",
    "movie_ratings.head(100)"
   ]
  },
  {
   "cell_type": "code",
   "execution_count": null,
   "metadata": {},
   "outputs": [],
   "source": []
  }
 ],
 "metadata": {
  "kernelspec": {
   "display_name": "Python 3",
   "language": "python",
   "name": "python3"
  },
  "language_info": {
   "codemirror_mode": {
    "name": "ipython",
    "version": 3
   },
   "file_extension": ".py",
   "mimetype": "text/x-python",
   "name": "python",
   "nbconvert_exporter": "python",
   "pygments_lexer": "ipython3",
   "version": "3.7.6"
  }
 },
 "nbformat": 4,
 "nbformat_minor": 4
}
