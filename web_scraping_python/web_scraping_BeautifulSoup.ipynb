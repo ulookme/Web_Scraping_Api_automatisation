{
 "cells": [
  {
   "cell_type": "code",
   "execution_count": 1,
   "metadata": {},
   "outputs": [],
   "source": [
    "import requests"
   ]
  },
  {
   "cell_type": "code",
   "execution_count": 2,
   "metadata": {},
   "outputs": [
    {
     "name": "stdout",
     "output_type": "stream",
     "text": [
      "b'<html>\\r\\n  <head>\\r\\n      <title> Un exemple de page HTML </title>\\r\\n  </head>\\r\\n\\r\\n  <body>\\r\\n      <p>Un simple paragraphe</p>\\r\\n  </body>\\r\\n</html>'\n"
     ]
    }
   ],
   "source": [
    "\n",
    "response= requests.get(\"https://raw.githubusercontent.com/codelikerod/web-scraping/master/exemple1.html\")\n",
    "content=response.content\n",
    "print(content)"
   ]
  },
  {
   "cell_type": "code",
   "execution_count": 12,
   "metadata": {},
   "outputs": [],
   "source": [
    "# library beautifulsoup du package bs4\n",
    "from bs4 import BeautifulSoup"
   ]
  },
  {
   "cell_type": "code",
   "execution_count": 13,
   "metadata": {},
   "outputs": [
    {
     "name": "stdout",
     "output_type": "stream",
     "text": [
      "Un simple paragraphe\n"
     ]
    }
   ],
   "source": [
    "# on applique beautifulsoup pour analyser le contenant precedement telecharger \n",
    "parser = BeautifulSoup(content, 'html.parser')\n",
    "\n",
    "# obtenir le tag body du document HTLM\n",
    "body = parser.body\n",
    "#obtenir le tag p du body\n",
    "p = body.p\n",
    "\n",
    "# afficher le texte --- on utilise l'attribut .text\n",
    "print(p.text)"
   ]
  },
  {
   "cell_type": "code",
   "execution_count": 15,
   "metadata": {},
   "outputs": [
    {
     "name": "stdout",
     "output_type": "stream",
     "text": [
      " Un exemple de page HTML \n"
     ]
    }
   ],
   "source": [
    "#recupéré le titre de la page \n",
    "head=parser.head\n",
    "title = head.title\n",
    "print(title.text)"
   ]
  },
  {
   "cell_type": "code",
   "execution_count": 16,
   "metadata": {},
   "outputs": [],
   "source": [
    "## UTILISER FIND ALL"
   ]
  },
  {
   "cell_type": "code",
   "execution_count": 19,
   "metadata": {},
   "outputs": [
    {
     "name": "stdout",
     "output_type": "stream",
     "text": [
      "Un simple paragraphe\n"
     ]
    }
   ],
   "source": [
    "parser = BeautifulSoup(content,'html.parser')\n",
    "#Obtenir tous les elements de la baslise body\n",
    "body = parser.find_all('body')\n",
    "#on recupére les elements de la balise p dans la liste body\n",
    "p = body[0].find_all(\"p\")#body[0]car on recupére le premier element de la lise\n",
    "\n",
    "#obtenir le texte\n",
    "print(p[0].text)"
   ]
  },
  {
   "cell_type": "code",
   "execution_count": 21,
   "metadata": {},
   "outputs": [
    {
     "name": "stdout",
     "output_type": "stream",
     "text": [
      " Un exemple de page HTML \n"
     ]
    }
   ],
   "source": [
    "head = parser.find_all(\"head\")\n",
    "title= head[0].find_all(\"title\")\n",
    "title_texte = title[0].text\n",
    "print(title_texte)"
   ]
  },
  {
   "cell_type": "code",
   "execution_count": null,
   "metadata": {},
   "outputs": [],
   "source": [
    "### ELEMENTS CORRESPONDANT AUX ID\n"
   ]
  },
  {
   "cell_type": "code",
   "execution_count": 23,
   "metadata": {},
   "outputs": [
    {
     "name": "stdout",
     "output_type": "stream",
     "text": [
      "1er paragraphe\n"
     ]
    }
   ],
   "source": [
    "#telecharge la page \n",
    "response= requests.get(\"https://raw.githubusercontent.com/codelikerod/web-scraping/master/exemple2.html\")\n",
    "content=response.content\n",
    "parser = BeautifulSoup(content, 'html.parser')\n",
    "\n",
    "#recuperer l'ID souhaiter\n",
    "first_paragraphe = parser.find_all(\"p\", id=\"first\")[0]#on ajoute id = first\n",
    "print(first_paragraphe.text)"
   ]
  },
  {
   "cell_type": "code",
   "execution_count": 25,
   "metadata": {},
   "outputs": [
    {
     "name": "stdout",
     "output_type": "stream",
     "text": [
      "2nd paragraphe\n"
     ]
    }
   ],
   "source": [
    "# exemple pour la recupération du paragraphe n2 \n",
    "#telecharge la page \n",
    "response= requests.get(\"https://raw.githubusercontent.com/codelikerod/web-scraping/master/exemple2.html\")\n",
    "content=response.content\n",
    "parser = BeautifulSoup(content, 'html.parser')\n",
    "\n",
    "second_para= parser.find_all(\"p\", id=\"second\")[0]\n",
    "print(second_para.text)"
   ]
  },
  {
   "cell_type": "code",
   "execution_count": 26,
   "metadata": {},
   "outputs": [],
   "source": [
    "###LES CLASSE "
   ]
  },
  {
   "cell_type": "code",
   "execution_count": 30,
   "metadata": {},
   "outputs": [
    {
     "name": "stdout",
     "output_type": "stream",
     "text": [
      "1er paragraphe classe 1\n"
     ]
    }
   ],
   "source": [
    "#telecharger le site web\n",
    "response= requests.get(\"https://raw.githubusercontent.com/codelikerod/web-scraping/master/exemple3.html\")\n",
    "content = response.content\n",
    "parser = BeautifulSoup(content, 'html.parser')\n",
    "\n",
    "#obtenir le premier paragraphe de la classe1\n",
    "#trouver tout les paragraphe de la class2 et recupéré le premier element\n",
    "first_class1_para = parser.find_all(\"p\",class_=\"class1\")[0]\n",
    "print(first_class1_para.text)\n",
    "\n",
    "\n",
    "\n"
   ]
  },
  {
   "cell_type": "code",
   "execution_count": 31,
   "metadata": {},
   "outputs": [
    {
     "name": "stdout",
     "output_type": "stream",
     "text": [
      "2nd paragraphe class 1\n"
     ]
    }
   ],
   "source": [
    "#obtenir le second paragraphe de la classe1\n",
    "#trouver tout les paragraphe de la class2 et recupéré le second element\n",
    "second_class1_para = parser.find_all(\"p\",class_=\"class1\")[1]\n",
    "print(second_class1_para.text)"
   ]
  },
  {
   "cell_type": "code",
   "execution_count": 33,
   "metadata": {},
   "outputs": [
    {
     "name": "stdout",
     "output_type": "stream",
     "text": [
      "1er paragraphe class 2\n"
     ]
    }
   ],
   "source": [
    "#obtenir le premier paragraphe de la classe2\n",
    "#trouver tout les paragraphe de la class2 et recupéré le prmier element\n",
    "first_class2_para = parser.find_all(\"p\",class_=\"class2\")[0]\n",
    "print(first_class2_para.text)"
   ]
  },
  {
   "cell_type": "code",
   "execution_count": 34,
   "metadata": {},
   "outputs": [],
   "source": [
    "##SELECT CSS"
   ]
  },
  {
   "cell_type": "code",
   "execution_count": 35,
   "metadata": {},
   "outputs": [],
   "source": [
    "# p#firts{\n",
    "#       color: red\n",
    "#        }\n",
    "# .class1{\n",
    "#       color: red\n",
    "#        }"
   ]
  },
  {
   "cell_type": "code",
   "execution_count": 37,
   "metadata": {},
   "outputs": [
    {
     "name": "stdout",
     "output_type": "stream",
     "text": [
      "1er paragraphe classe 1\r\n",
      "      \n"
     ]
    }
   ],
   "source": [
    "# telecharger le site web \n",
    "response = requests.get(\"https://raw.githubusercontent.com/codelikerod/web-scraping/master/exemple4.html\")\n",
    "content=response.content\n",
    "parser= BeautifulSoup(content,'html.parser')\n",
    "#selectionner tout les element de la classe firts-items\n",
    "first_items=parser.select(\".first-item\")\n",
    "print(first_items[0].text)\n"
   ]
  },
  {
   "cell_type": "code",
   "execution_count": 42,
   "metadata": {},
   "outputs": [
    {
     "name": "stdout",
     "output_type": "stream",
     "text": [
      "1er paragraphe class 2\r\n",
      "      \n"
     ]
    }
   ],
   "source": [
    "first_items=parser.select(\".first-item\",id=\"second\")\n",
    "print(first_items[1].text)"
   ]
  },
  {
   "cell_type": "code",
   "execution_count": 43,
   "metadata": {},
   "outputs": [
    {
     "name": "stdout",
     "output_type": "stream",
     "text": [
      "1er paragraphe class 2\r\n",
      "      \n"
     ]
    }
   ],
   "source": [
    "second_text = parser.select(\"#second\")[0].text\n",
    "print(second_text)"
   ]
  },
  {
   "cell_type": "code",
   "execution_count": 44,
   "metadata": {},
   "outputs": [],
   "source": [
    "###association de selecteur en CSS\n",
    "#extraire le nombre de faute de chelsea et assigné la variable le resultat a la variable chelsea_offence_count\n",
    "#extraire le nombre de passe reussi par le psg et assigner le resultat a la variable psg_passe_count\n"
   ]
  },
  {
   "cell_type": "code",
   "execution_count": 56,
   "metadata": {},
   "outputs": [
    {
     "name": "stdout",
     "output_type": "stream",
     "text": [
      "24\n"
     ]
    }
   ],
   "source": [
    "response = requests.get(\"https://raw.githubusercontent.com/codelikerod/web-scraping/master/psg-vs-chelsea.html\")\n",
    "content=response.content\n",
    "parser= BeautifulSoup(content,'html.parser')\n",
    "#trouver le nombre de faute\n",
    "offenses = parser.select(\"#fautes\")[0]\n",
    "chelsea_offences = offenses.select(\"td\")[1]\n",
    "chelsea_offences_count=chelsea_offences.text\n",
    "print(chelsea_offences_count)"
   ]
  },
  {
   "cell_type": "code",
   "execution_count": 61,
   "metadata": {},
   "outputs": [
    {
     "name": "stdout",
     "output_type": "stream",
     "text": [
      "545\n"
     ]
    }
   ],
   "source": [
    "# le nombre de passe reussi psg\n",
    "response = requests.get(\"https://raw.githubusercontent.com/codelikerod/web-scraping/master/psg-vs-chelsea.html\")\n",
    "content=response.content\n",
    "parser= BeautifulSoup(content,'html.parser')\n",
    "passes = parser.select(\"#passes\")[0]\n",
    "psg_passe = passes.select(\"td\")[2]\n",
    "psg_passe_count=psg_passe.text\n",
    "print(psg_passe_count)\n"
   ]
  },
  {
   "cell_type": "code",
   "execution_count": null,
   "metadata": {},
   "outputs": [],
   "source": []
  }
 ],
 "metadata": {
  "kernelspec": {
   "display_name": "Python 3",
   "language": "python",
   "name": "python3"
  },
  "language_info": {
   "codemirror_mode": {
    "name": "ipython",
    "version": 3
   },
   "file_extension": ".py",
   "mimetype": "text/x-python",
   "name": "python",
   "nbconvert_exporter": "python",
   "pygments_lexer": "ipython3",
   "version": "3.7.6"
  }
 },
 "nbformat": 4,
 "nbformat_minor": 4
}
