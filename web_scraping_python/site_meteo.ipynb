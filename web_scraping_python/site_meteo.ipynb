{
 "cells": [
  {
   "cell_type": "code",
   "execution_count": 1,
   "metadata": {},
   "outputs": [],
   "source": [
    "#extraire data site méteo"
   ]
  },
  {
   "cell_type": "code",
   "execution_count": 2,
   "metadata": {},
   "outputs": [],
   "source": [
    "#telecherger la pasge contenant la prevision meteo\n",
    "#utiliser BeautifulSoup pour analyser le code html ou insecter la page \n",
    "#touvers ID seven_day_forecast et assigné le resultat a la variable seven_day \n",
    "#a l'interieur de senven_day selectionner chaque prevision individuellement\n",
    "#extraire et afficher le premier element"
   ]
  },
  {
   "cell_type": "code",
   "execution_count": 10,
   "metadata": {},
   "outputs": [
    {
     "name": "stdout",
     "output_type": "stream",
     "text": [
      "<li class=\"forecast-tombstone\">\n",
      " <div class=\"tombstone-container\">\n",
      "  <p class=\"period-name\">\n",
      "   Tonight\n",
      "   <br/>\n",
      "   <br/>\n",
      "  </p>\n",
      "  <p>\n",
      "   <img alt=\"Tonight: Mostly clear, with a low around 56. West southwest wind 5 to 9 mph. \" class=\"forecast-icon\" src=\"newimages/medium/nfew.png\" title=\"Tonight: Mostly clear, with a low around 56. West southwest wind 5 to 9 mph. \"/>\n",
      "  </p>\n",
      "  <p class=\"short-desc\">\n",
      "   Mostly Clear\n",
      "  </p>\n",
      "  <p class=\"temp temp-low\">\n",
      "   Low: 56 °F\n",
      "  </p>\n",
      " </div>\n",
      "</li>\n",
      "\n"
     ]
    }
   ],
   "source": [
    "from bs4 import BeautifulSoup\n",
    "import requests\n",
    "import pandas as pd\n",
    "page = requests.get(\"https://forecast.weather.gov/MapClick.php?lat=37.7772&lon=-122.4168#.Xqe2Wy9PhQI\")\n",
    "soup = BeautifulSoup(page.content, 'html.parser')\n",
    "seven_day = soup.find(id=\"seven-day-forecast\")\n",
    "forecast_items= seven_day.find_all(class_=\"forecast-tombstone\")\n",
    "today = forecast_items[0]\n",
    "print(today.prettify())"
   ]
  },
  {
   "cell_type": "code",
   "execution_count": 11,
   "metadata": {},
   "outputs": [
    {
     "name": "stdout",
     "output_type": "stream",
     "text": [
      "Tonight\n",
      "Mostly Clear\n",
      "Low: 56 °F\n"
     ]
    }
   ],
   "source": [
    "# extraire tout les information de l'élement \n",
    "# le non de loget la description et la température \n",
    "#titre\n",
    "period = today.find(class_=\"period-name\").get_text()\n",
    "short_desc = today.find(class_=\"short-desc\").get_text()\n",
    "temp = today.find(class_=\"temp\").get_text()\n",
    "print(period)\n",
    "print(short_desc)\n",
    "print(temp)"
   ]
  },
  {
   "cell_type": "code",
   "execution_count": 12,
   "metadata": {},
   "outputs": [
    {
     "name": "stdout",
     "output_type": "stream",
     "text": [
      "Tonight: Mostly clear, with a low around 56. West southwest wind 5 to 9 mph. \n"
     ]
    }
   ],
   "source": [
    "img= today.find(\"img\")\n",
    "desc = img['title'] # img est un dictionnaire \n",
    "print(desc)"
   ]
  },
  {
   "cell_type": "code",
   "execution_count": 19,
   "metadata": {},
   "outputs": [],
   "source": [
    "#extraire tout les information de la page sur une liste \n",
    "#exemple\n",
    "period_tags = seven_day.select(\".tombstone-container .period-name\")\n",
    "# on parcourt tous les elements de peridod_tag et pour chaque element on applique la methode peridod.get()\n",
    "# on obtient une liste \n",
    "periods=[pt.get_text() for pt in period_tags]\n"
   ]
  },
  {
   "cell_type": "code",
   "execution_count": 20,
   "metadata": {},
   "outputs": [
    {
     "name": "stdout",
     "output_type": "stream",
     "text": [
      "['Tonight', 'Tuesday', 'TuesdayNight', 'Wednesday', 'WednesdayNight', 'Thursday', 'ThursdayNight', 'Friday', 'FridayNight']\n"
     ]
    }
   ],
   "source": [
    "print(periods)"
   ]
  },
  {
   "cell_type": "code",
   "execution_count": 30,
   "metadata": {},
   "outputs": [
    {
     "name": "stdout",
     "output_type": "stream",
     "text": [
      "['Mostly Clear', 'Sunny', 'IncreasingClouds', 'Mostly Cloudy', 'Mostly Cloudy', 'Mostly Sunny', 'Partly Cloudy', 'Mostly Sunny', 'Mostly Clear']\n",
      "['Low: 56 °F', 'High: 74 °F', 'Low: 55 °F', 'High: 68 °F', 'Low: 54 °F', 'High: 67 °F', 'Low: 52 °F', 'High: 67 °F', 'Low: 53 °F']\n",
      "['Tonight: Mostly clear, with a low around 56. West southwest wind 5 to 9 mph. ', 'Tuesday: Sunny, with a high near 74. West southwest wind 5 to 14 mph, with gusts as high as 18 mph. ', 'Tuesday Night: Increasing clouds, with a low around 55. West wind 10 to 14 mph, with gusts as high as 18 mph. ', 'Wednesday: Mostly cloudy, with a high near 68. West wind 10 to 16 mph, with gusts as high as 21 mph. ', 'Wednesday Night: Mostly cloudy, with a low around 54. West wind 9 to 15 mph, with gusts as high as 20 mph. ', 'Thursday: Mostly sunny, with a high near 67.', 'Thursday Night: Partly cloudy, with a low around 52.', 'Friday: Mostly sunny, with a high near 67.', 'Friday Night: Mostly clear, with a low around 53.']\n"
     ]
    }
   ],
   "source": [
    "#faire la memes avec la courte description, les temperatures et les titres(description)\n",
    "short_descs=[sd.get_text() for sd in seven_day.select(\".tombstone-container .short-desc\")]\n",
    "temps=[t.get_text() for t in seven_day.select(\".tombstone-container .temp\")]\n",
    "desc =[d['title'] for d in seven_day.select(\".tombstone-container img\")]\n",
    "print(short_descs)\n",
    "print(temps)\n",
    "print(desc)"
   ]
  },
  {
   "cell_type": "code",
   "execution_count": 32,
   "metadata": {},
   "outputs": [],
   "source": [
    "#afficher les 4 liste dans un tableau pandas qu' on pourra inporter en fichier csv\n",
    "weather = pd.DataFrame({\n",
    "    \"periode\":periods,\n",
    "\"short_desc\":short_descs,\n",
    "\"temp\":temps,\n",
    "\"desc\":desc})\n",
    "\n"
   ]
  },
  {
   "cell_type": "code",
   "execution_count": 33,
   "metadata": {},
   "outputs": [
    {
     "data": {
      "text/html": [
       "<div>\n",
       "<style scoped>\n",
       "    .dataframe tbody tr th:only-of-type {\n",
       "        vertical-align: middle;\n",
       "    }\n",
       "\n",
       "    .dataframe tbody tr th {\n",
       "        vertical-align: top;\n",
       "    }\n",
       "\n",
       "    .dataframe thead th {\n",
       "        text-align: right;\n",
       "    }\n",
       "</style>\n",
       "<table border=\"1\" class=\"dataframe\">\n",
       "  <thead>\n",
       "    <tr style=\"text-align: right;\">\n",
       "      <th></th>\n",
       "      <th>periode</th>\n",
       "      <th>short_desc</th>\n",
       "      <th>temp</th>\n",
       "      <th>desc</th>\n",
       "    </tr>\n",
       "  </thead>\n",
       "  <tbody>\n",
       "    <tr>\n",
       "      <th>0</th>\n",
       "      <td>Tonight</td>\n",
       "      <td>Mostly Clear</td>\n",
       "      <td>Low: 56 °F</td>\n",
       "      <td>Tonight: Mostly clear, with a low around 56. W...</td>\n",
       "    </tr>\n",
       "    <tr>\n",
       "      <th>1</th>\n",
       "      <td>Tuesday</td>\n",
       "      <td>Sunny</td>\n",
       "      <td>High: 74 °F</td>\n",
       "      <td>Tuesday: Sunny, with a high near 74. West sout...</td>\n",
       "    </tr>\n",
       "    <tr>\n",
       "      <th>2</th>\n",
       "      <td>TuesdayNight</td>\n",
       "      <td>IncreasingClouds</td>\n",
       "      <td>Low: 55 °F</td>\n",
       "      <td>Tuesday Night: Increasing clouds, with a low a...</td>\n",
       "    </tr>\n",
       "    <tr>\n",
       "      <th>3</th>\n",
       "      <td>Wednesday</td>\n",
       "      <td>Mostly Cloudy</td>\n",
       "      <td>High: 68 °F</td>\n",
       "      <td>Wednesday: Mostly cloudy, with a high near 68....</td>\n",
       "    </tr>\n",
       "    <tr>\n",
       "      <th>4</th>\n",
       "      <td>WednesdayNight</td>\n",
       "      <td>Mostly Cloudy</td>\n",
       "      <td>Low: 54 °F</td>\n",
       "      <td>Wednesday Night: Mostly cloudy, with a low aro...</td>\n",
       "    </tr>\n",
       "    <tr>\n",
       "      <th>5</th>\n",
       "      <td>Thursday</td>\n",
       "      <td>Mostly Sunny</td>\n",
       "      <td>High: 67 °F</td>\n",
       "      <td>Thursday: Mostly sunny, with a high near 67.</td>\n",
       "    </tr>\n",
       "    <tr>\n",
       "      <th>6</th>\n",
       "      <td>ThursdayNight</td>\n",
       "      <td>Partly Cloudy</td>\n",
       "      <td>Low: 52 °F</td>\n",
       "      <td>Thursday Night: Partly cloudy, with a low arou...</td>\n",
       "    </tr>\n",
       "    <tr>\n",
       "      <th>7</th>\n",
       "      <td>Friday</td>\n",
       "      <td>Mostly Sunny</td>\n",
       "      <td>High: 67 °F</td>\n",
       "      <td>Friday: Mostly sunny, with a high near 67.</td>\n",
       "    </tr>\n",
       "    <tr>\n",
       "      <th>8</th>\n",
       "      <td>FridayNight</td>\n",
       "      <td>Mostly Clear</td>\n",
       "      <td>Low: 53 °F</td>\n",
       "      <td>Friday Night: Mostly clear, with a low around 53.</td>\n",
       "    </tr>\n",
       "  </tbody>\n",
       "</table>\n",
       "</div>"
      ],
      "text/plain": [
       "          periode        short_desc         temp  \\\n",
       "0         Tonight      Mostly Clear   Low: 56 °F   \n",
       "1         Tuesday             Sunny  High: 74 °F   \n",
       "2    TuesdayNight  IncreasingClouds   Low: 55 °F   \n",
       "3       Wednesday     Mostly Cloudy  High: 68 °F   \n",
       "4  WednesdayNight     Mostly Cloudy   Low: 54 °F   \n",
       "5        Thursday      Mostly Sunny  High: 67 °F   \n",
       "6   ThursdayNight     Partly Cloudy   Low: 52 °F   \n",
       "7          Friday      Mostly Sunny  High: 67 °F   \n",
       "8     FridayNight      Mostly Clear   Low: 53 °F   \n",
       "\n",
       "                                                desc  \n",
       "0  Tonight: Mostly clear, with a low around 56. W...  \n",
       "1  Tuesday: Sunny, with a high near 74. West sout...  \n",
       "2  Tuesday Night: Increasing clouds, with a low a...  \n",
       "3  Wednesday: Mostly cloudy, with a high near 68....  \n",
       "4  Wednesday Night: Mostly cloudy, with a low aro...  \n",
       "5       Thursday: Mostly sunny, with a high near 67.  \n",
       "6  Thursday Night: Partly cloudy, with a low arou...  \n",
       "7         Friday: Mostly sunny, with a high near 67.  \n",
       "8  Friday Night: Mostly clear, with a low around 53.  "
      ]
     },
     "execution_count": 33,
     "metadata": {},
     "output_type": "execute_result"
    }
   ],
   "source": [
    "weather"
   ]
  },
  {
   "cell_type": "code",
   "execution_count": null,
   "metadata": {},
   "outputs": [],
   "source": []
  }
 ],
 "metadata": {
  "kernelspec": {
   "display_name": "Python 3",
   "language": "python",
   "name": "python3"
  },
  "language_info": {
   "codemirror_mode": {
    "name": "ipython",
    "version": 3
   },
   "file_extension": ".py",
   "mimetype": "text/x-python",
   "name": "python",
   "nbconvert_exporter": "python",
   "pygments_lexer": "ipython3",
   "version": "3.7.6"
  }
 },
 "nbformat": 4,
 "nbformat_minor": 4
}
