{
 "cells": [
  {
   "cell_type": "code",
   "execution_count": 1,
   "metadata": {},
   "outputs": [
    {
     "name": "stdout",
     "output_type": "stream",
     "text": [
      "b'{\\n  \"message\": \"success\", \\n  \"request\": {\\n    \"altitude\": 100, \\n    \"datetime\": 1587850359, \\n    \"latitude\": 37.78, \\n    \"longitude\": -112.41, \\n    \"passes\": 5\\n  }, \\n  \"response\": [\\n    {\\n      \"duration\": 453, \\n      \"risetime\": 1587895910\\n    }, \\n    {\\n      \"duration\": 653, \\n      \"risetime\": 1587901583\\n    }, \\n    {\\n      \"duration\": 589, \\n      \"risetime\": 1587907443\\n    }, \\n    {\\n      \"duration\": 491, \\n      \"risetime\": 1587913369\\n    }, \\n    {\\n      \"duration\": 547, \\n      \"risetime\": 1587919227\\n    }\\n  ]\\n}\\n'\n"
     ]
    }
   ],
   "source": [
    "\n",
    "import requests\n",
    "parameters= {\"lat\": 37.78, \"lon\":-112.41}\n",
    "response = requests.get(\"http://api.open-notify.org/iss-pass.json\",params=parameters)\n",
    "content = response.content\n",
    "print(content)"
   ]
  },
  {
   "cell_type": "code",
   "execution_count": 2,
   "metadata": {},
   "outputs": [],
   "source": [
    "#format JSON\n",
    "#library json: - dumps -- prend une entre un objet python et retourne une chaine de caractere\n",
    "\n",
    "#-loads -- prend en entre une chaine de caractere Json et retourner un objet python (listes,dictionnaires..)"
   ]
  },
  {
   "cell_type": "code",
   "execution_count": 3,
   "metadata": {},
   "outputs": [
    {
     "name": "stdout",
     "output_type": "stream",
     "text": [
      "['teniss', 'foot', 'triathlon']\n"
     ]
    }
   ],
   "source": [
    "#soit une liste de sport\n",
    "sports = [\"teniss\",\"foot\",\"triathlon\"]\n",
    "print(sports)"
   ]
  },
  {
   "cell_type": "code",
   "execution_count": 5,
   "metadata": {},
   "outputs": [
    {
     "name": "stdout",
     "output_type": "stream",
     "text": [
      "<class 'list'>\n"
     ]
    }
   ],
   "source": [
    "print(type(sports))"
   ]
  },
  {
   "cell_type": "code",
   "execution_count": 6,
   "metadata": {},
   "outputs": [],
   "source": [
    "import json"
   ]
  },
  {
   "cell_type": "code",
   "execution_count": 7,
   "metadata": {},
   "outputs": [
    {
     "name": "stdout",
     "output_type": "stream",
     "text": [
      "[\"teniss\", \"foot\", \"triathlon\"]\n"
     ]
    }
   ],
   "source": [
    "sports_string = json.dumps(sports)\n",
    "print(sports_string)"
   ]
  },
  {
   "cell_type": "code",
   "execution_count": 8,
   "metadata": {},
   "outputs": [
    {
     "name": "stdout",
     "output_type": "stream",
     "text": [
      "<class 'str'>\n"
     ]
    }
   ],
   "source": [
    "print(type(sports_string))"
   ]
  },
  {
   "cell_type": "code",
   "execution_count": 9,
   "metadata": {},
   "outputs": [
    {
     "name": "stdout",
     "output_type": "stream",
     "text": [
      "<class 'list'>\n"
     ]
    }
   ],
   "source": [
    "#convertir sport_string en liste --methode json.loads\n",
    "sports2= json.loads(sports_string)\n",
    "print(type(sports2))"
   ]
  },
  {
   "cell_type": "code",
   "execution_count": 10,
   "metadata": {},
   "outputs": [
    {
     "name": "stdout",
     "output_type": "stream",
     "text": [
      "{'football': 196221, 'tennis': 101233, 'equitation': 66312, 'basketball': 641367}\n"
     ]
    }
   ],
   "source": [
    "#soit le dictionnaire contenant le nombre de liencier pour quelques sport en france en 2016\n",
    "\n",
    "sports_number={\n",
    "    \"football\":196221,\n",
    "    \"tennis\":101233,\n",
    "    \"equitation\":66312,\n",
    "    \"basketball\":641367\n",
    "}\n",
    "print(sports_number)"
   ]
  },
  {
   "cell_type": "code",
   "execution_count": 11,
   "metadata": {},
   "outputs": [
    {
     "name": "stdout",
     "output_type": "stream",
     "text": [
      "<class 'str'>\n"
     ]
    }
   ],
   "source": [
    "#convertir liste en json\n",
    "sports_nb_str=json.dumps(sports_number)\n",
    "print(type(sports_nb_str))"
   ]
  },
  {
   "cell_type": "code",
   "execution_count": 13,
   "metadata": {},
   "outputs": [
    {
     "name": "stdout",
     "output_type": "stream",
     "text": [
      "<class 'dict'>\n"
     ]
    }
   ],
   "source": [
    "#convertir json en dictionnaire \n",
    "sports_nb_list=json.loads(sports_nb_str)\n",
    "print(type(sports_nb_list))"
   ]
  },
  {
   "cell_type": "code",
   "execution_count": 14,
   "metadata": {},
   "outputs": [],
   "source": [
    "# obtenir un JSON depuis une requete \n",
    "#methode json()"
   ]
  },
  {
   "cell_type": "code",
   "execution_count": 18,
   "metadata": {},
   "outputs": [],
   "source": [
    "# reprenons notre requéte avec les coordonnés de Paris\n",
    "parameters= {'lat':48.87, 'lon':2.33}\n",
    "response = requests.get(\"http://api.open-notify.org/iss-pass.json\",\n",
    "                        params=parameters)"
   ]
  },
  {
   "cell_type": "code",
   "execution_count": 22,
   "metadata": {},
   "outputs": [
    {
     "name": "stdout",
     "output_type": "stream",
     "text": [
      "<class 'dict'>\n"
     ]
    }
   ],
   "source": [
    "#obtenir un objet python\n",
    "json_data=response.json()\n",
    "print(type(json_data))"
   ]
  },
  {
   "cell_type": "code",
   "execution_count": 23,
   "metadata": {},
   "outputs": [
    {
     "name": "stdout",
     "output_type": "stream",
     "text": [
      "{'message': 'success', 'request': {'altitude': 100, 'datetime': 1587849896, 'latitude': 48.87, 'longitude': 2.33, 'passes': 5}, 'response': [{'duration': 559, 'risetime': 1587873856}, {'duration': 653, 'risetime': 1587879587}, {'duration': 653, 'risetime': 1587885399}, {'duration': 655, 'risetime': 1587891221}, {'duration': 636, 'risetime': 1587897032}]}\n"
     ]
    }
   ],
   "source": [
    "print(json_data)"
   ]
  },
  {
   "cell_type": "code",
   "execution_count": 26,
   "metadata": {},
   "outputs": [
    {
     "name": "stdout",
     "output_type": "stream",
     "text": [
      "559\n"
     ]
    }
   ],
   "source": [
    "first_pass_duration = json_data[\"response\"][0]['duration']\n",
    "print(first_pass_duration)"
   ]
  },
  {
   "cell_type": "code",
   "execution_count": 27,
   "metadata": {},
   "outputs": [],
   "source": [
    "###type de contenu\n",
    "#.headers"
   ]
  },
  {
   "cell_type": "code",
   "execution_count": 28,
   "metadata": {},
   "outputs": [
    {
     "name": "stdout",
     "output_type": "stream",
     "text": [
      "{'Server': 'nginx/1.10.3', 'Date': 'Sat, 25 Apr 2020 22:06:36 GMT', 'Content-Type': 'application/json', 'Content-Length': '518', 'Connection': 'keep-alive', 'Via': '1.1 vegur'}\n"
     ]
    }
   ],
   "source": [
    "print(response.headers)"
   ]
  },
  {
   "cell_type": "code",
   "execution_count": 32,
   "metadata": {},
   "outputs": [
    {
     "name": "stdout",
     "output_type": "stream",
     "text": [
      "application/json\n"
     ]
    }
   ],
   "source": [
    "content_type= response.headers['content-type']\n",
    "print(content_type)"
   ]
  },
  {
   "cell_type": "code",
   "execution_count": 39,
   "metadata": {},
   "outputs": [
    {
     "name": "stdout",
     "output_type": "stream",
     "text": [
      "{'number': 3, 'message': 'success', 'people': [{'craft': 'ISS', 'name': 'Chris Cassidy'}, {'craft': 'ISS', 'name': 'Anatoly Ivanishin'}, {'craft': 'ISS', 'name': 'Ivan Vagner'}]}\n"
     ]
    }
   ],
   "source": [
    "# trouver le nombre de personnes dans l'espace\n",
    "\n",
    "response = requests.get(\"http://api.open-notify.org/astros.json\")\n",
    "json_data = response.json()\n",
    "print(json_data)"
   ]
  },
  {
   "cell_type": "code",
   "execution_count": 43,
   "metadata": {},
   "outputs": [
    {
     "name": "stdout",
     "output_type": "stream",
     "text": [
      "3\n"
     ]
    }
   ],
   "source": [
    "in_space_count=json_data['number']\n",
    "print(in_space_count)"
   ]
  },
  {
   "cell_type": "code",
   "execution_count": null,
   "metadata": {},
   "outputs": [],
   "source": []
  }
 ],
 "metadata": {
  "kernelspec": {
   "display_name": "Python 3",
   "language": "python",
   "name": "python3"
  },
  "language_info": {
   "codemirror_mode": {
    "name": "ipython",
    "version": 3
   },
   "file_extension": ".py",
   "mimetype": "text/x-python",
   "name": "python",
   "nbconvert_exporter": "python",
   "pygments_lexer": "ipython3",
   "version": "3.7.6"
  }
 },
 "nbformat": 4,
 "nbformat_minor": 4
}
