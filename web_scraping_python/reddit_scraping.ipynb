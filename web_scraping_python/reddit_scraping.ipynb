{
 "cells": [
  {
   "cell_type": "code",
   "execution_count": 2,
   "metadata": {},
   "outputs": [],
   "source": [
    "###cas partique : API de reddit"
   ]
  },
  {
   "cell_type": "code",
   "execution_count": 3,
   "metadata": {},
   "outputs": [],
   "source": [
    "###Authentification a L'API Reddit "
   ]
  },
  {
   "cell_type": "code",
   "execution_count": 4,
   "metadata": {},
   "outputs": [],
   "source": [
    "import requests\n",
    "import requests.auth"
   ]
  },
  {
   "cell_type": "code",
   "execution_count": null,
   "metadata": {},
   "outputs": [],
   "source": [
    "#on utilise la methode HTTPbasicAuth de la librairie requests.auth pour ajouter les identifiant de notre script\n",
    "client_auth=requests.auth.HTTPbasicAuth('wj4-W3WzZ8790g','POO46-P32jK-hsgj5')\n",
    "#on ajoute l'identifiant et le mot de passe de notre compte reddit\n",
    "post_data = (\"grant_type\":\"password\",\"username\":\"HAJJ_C\",\"passeword\":\"mkdir\")\n",
    "headers = {\"user-agent\":\"formation API\"}# ajoute d'un nom pour l'identification\n",
    "response = requests.post(\"https://www.reddit.com/api/v1/access_token\", auth=client_auth,data=post_data\n",
    "                        headers=headers)# on génére le token avec tout les infos precedent \n",
    "response.json"
   ]
  },
  {
   "cell_type": "code",
   "execution_count": null,
   "metadata": {},
   "outputs": [],
   "source": [
    "headers = {\"authorization\":\"bearer higos-lwBJ2xejdnshb\",\"User-agent\":\"formation API\"}\n",
    "params= {\"t\":\"day\"}#on ajoute un paramétre pour cibler le dernier jour\n",
    "#on applique une requette get avec les parmatére header et params afin de recupéré les poste python les plus populaire\n",
    "response = requests.get(\"https:oauth.reddit.com/r/python/top\",headers=headers,\n",
    "                       params=params)\n",
    "python_best_post=response.json()\n",
    "print(python_best_post)"
   ]
  },
  {
   "cell_type": "code",
   "execution_count": null,
   "metadata": {},
   "outputs": [],
   "source": [
    "python_top_articles=python_best_post['data']['children']\n",
    "most_upvoted=\"\"\n",
    "most_upvotes=0\n",
    "for article in python_top_articles:\n",
    "    ar=articles['data']\n",
    "    if ar[\"ups\"]>= most_upvotes:\n",
    "        most_upvoted = ar['id']\n",
    "        most_upvotes = ar['ups']"
   ]
  },
  {
   "cell_type": "code",
   "execution_count": null,
   "metadata": {},
   "outputs": [],
   "source": [
    "print(most_upvoted)\n",
    "print(most_upvotes)"
   ]
  },
  {
   "cell_type": "code",
   "execution_count": null,
   "metadata": {
    "collapsed": true
   },
   "outputs": [],
   "source": [
    "###obtenir les commentaires du poste\n",
    "#lien suite /r/{subreddit}/comments/{article}"
   ]
  },
  {
   "cell_type": "code",
   "execution_count": null,
   "metadata": {},
   "outputs": [],
   "source": []
  },
  {
   "cell_type": "code",
   "execution_count": null,
   "metadata": {},
   "outputs": [],
   "source": [
    "response=requests.get(\"https://oauth.reddit.com/r/python/comments/6p5qjt\", headers=headers)\n",
    "comments = response;json()\n",
    "print(comments)\n"
   ]
  },
  {
   "cell_type": "code",
   "execution_count": null,
   "metadata": {},
   "outputs": [],
   "source": [
    "comments[1]['data']['children']"
   ]
  },
  {
   "cell_type": "code",
   "execution_count": null,
   "metadata": {},
   "outputs": [],
   "source": [
    "#trouver le commentaire avec le plus de vote\n",
    "best_comments=comments['data']['children']\n",
    "most_upvoted_comments=\"\"\n",
    "most_upvotes_comments=0\n",
    "for comments in comments_list:\n",
    "    co=comment['data']\n",
    "    if co[\"ups\"]>= most_upvotes_comments:\n",
    "        most_upvoted_comments = ar['id']\n",
    "        most_upvotes_comments = ar['ups']"
   ]
  },
  {
   "cell_type": "code",
   "execution_count": null,
   "metadata": {},
   "outputs": [],
   "source": [
    "print(most_upvotes_comments)"
   ]
  },
  {
   "cell_type": "code",
   "execution_count": null,
   "metadata": {},
   "outputs": [],
   "source": []
  }
 ],
 "metadata": {
  "kernelspec": {
   "display_name": "Python 3",
   "language": "python",
   "name": "python3"
  },
  "language_info": {
   "codemirror_mode": {
    "name": "ipython",
    "version": 3
   },
   "file_extension": ".py",
   "mimetype": "text/x-python",
   "name": "python",
   "nbconvert_exporter": "python",
   "pygments_lexer": "ipython3",
   "version": "3.7.6"
  }
 },
 "nbformat": 4,
 "nbformat_minor": 4
}
